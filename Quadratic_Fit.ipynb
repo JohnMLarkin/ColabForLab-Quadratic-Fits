{
  "nbformat": 4,
  "nbformat_minor": 0,
  "metadata": {
    "colab": {
      "name": "Linear-Fit-with-Errors.ipynb",
      "provenance": [],
      "authorship_tag": "ABX9TyO4aL4JhKQBb1647IV8aQrb",
      "include_colab_link": true
    },
    "kernelspec": {
      "name": "python3",
      "display_name": "Python 3"
    }
  },
  "cells": [
    {
      "cell_type": "markdown",
      "metadata": {
        "id": "view-in-github",
        "colab_type": "text"
      },
      "source": [
        "<a href=\"https://colab.research.google.com/github/JohnMLarkin/ColabForLab-Quadratic-Fits/blob/main/Quadratic_Fit.ipynb\" target=\"_parent\"><img src=\"https://colab.research.google.com/assets/colab-badge.svg\" alt=\"Open In Colab\"/></a>"
      ]
    },
    {
      "cell_type": "markdown",
      "metadata": {
        "id": "TtZa1YluwlX1"
      },
      "source": [
        "# Install and Import Libraries"
      ]
    },
    {
      "cell_type": "code",
      "metadata": {
        "id": "8OKi2kefwdvC"
      },
      "source": [
        "!pip install whit-phys-util"
      ],
      "execution_count": null,
      "outputs": []
    },
    {
      "cell_type": "code",
      "metadata": {
        "id": "lxJ2YevFwvlA"
      },
      "source": [
        "import numpy as np\r\n",
        "import pandas as pd\r\n",
        "import matplotlib.pyplot as plt\r\n",
        "import whit_phys_util as buc\r\n",
        "from IPython.display import display_markdown"
      ],
      "execution_count": null,
      "outputs": []
    },
    {
      "cell_type": "markdown",
      "metadata": {
        "id": "iusPGsbGw3Qv"
      },
      "source": [
        "# Connect to GitHub repository"
      ]
    },
    {
      "cell_type": "code",
      "metadata": {
        "id": "aLTiDgcbw5-5"
      },
      "source": [
        "repo = buc.local_repository(\"replace me\")"
      ],
      "execution_count": null,
      "outputs": []
    }
  ]
}